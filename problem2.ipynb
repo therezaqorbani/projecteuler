{
 "cells": [
  {
   "cell_type": "markdown",
   "id": "e99a055c",
   "metadata": {},
   "source": [
    "This function identifies even numbers"
   ]
  },
  {
   "cell_type": "code",
   "execution_count": 8,
   "id": "7c7ca76c",
   "metadata": {},
   "outputs": [],
   "source": [
    "def IsEven(n):\n",
    "    if n % 2 == 0:\n",
    "        return True\n",
    "    else:\n",
    "        return False"
   ]
  },
  {
   "cell_type": "markdown",
   "id": "5cd84cda",
   "metadata": {},
   "source": [
    "This is the main loop"
   ]
  },
  {
   "cell_type": "code",
   "execution_count": 14,
   "id": "534d3d2e",
   "metadata": {},
   "outputs": [
    {
     "name": "stdout",
     "output_type": "stream",
     "text": [
      "4613732\n"
     ]
    }
   ],
   "source": [
    "i = 1\n",
    "j = 2\n",
    "k = 0\n",
    "l = 0\n",
    "while j < 4 * 10**6:\n",
    "    if IsEven(j):\n",
    "        l += j\n",
    "    k = i\n",
    "    i = j\n",
    "    j += k\n",
    "\n",
    "print(l)"
   ]
  }
 ],
 "metadata": {
  "kernelspec": {
   "display_name": ".venv (3.13.5)",
   "language": "python",
   "name": "python3"
  },
  "language_info": {
   "codemirror_mode": {
    "name": "ipython",
    "version": 3
   },
   "file_extension": ".py",
   "mimetype": "text/x-python",
   "name": "python",
   "nbconvert_exporter": "python",
   "pygments_lexer": "ipython3",
   "version": "3.13.5"
  }
 },
 "nbformat": 4,
 "nbformat_minor": 5
}
